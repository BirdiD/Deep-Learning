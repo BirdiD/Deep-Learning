{
  "nbformat": 4,
  "nbformat_minor": 0,
  "metadata": {
    "jupytext": {
      "formats": "ipynb,Rmd"
    },
    "kernelspec": {
      "display_name": "Python 3",
      "language": "python",
      "name": "python3"
    },
    "language_info": {
      "codemirror_mode": {
        "name": "ipython",
        "version": 3
      },
      "file_extension": ".py",
      "mimetype": "text/x-python",
      "name": "python",
      "nbconvert_exporter": "python",
      "pygments_lexer": "ipython3",
      "version": "3.6.10"
    },
    "colab": {
      "name": "TP2_LeastNormResid_Tall.ipynb",
      "provenance": []
    }
  },
  "cells": [
    {
      "cell_type": "markdown",
      "metadata": {
        "id": "pFhed7tVN6kF"
      },
      "source": [
        "<center> <font size=\"+1\"> TP2 SIC 4102 </font> </center>\n",
        "\n",
        "# Problème de moindre norme (système sur-déterminé)\n"
      ]
    },
    {
      "cell_type": "markdown",
      "metadata": {
        "id": "wuuj_plO62b7"
      },
      "source": [
        ""
      ]
    },
    {
      "cell_type": "markdown",
      "metadata": {
        "id": "39zybUohN6kS"
      },
      "source": [
        "$\n",
        "\\newcommand{\\bA}{\\mathbf{A}}\n",
        "\\newcommand{\\bx}{\\mathbf{x}}\n",
        "\\newcommand{\\by}{\\mathbf{y}}\n",
        "\\newcommand{\\be}{\\mathbf{e}}\n",
        "\\newcommand{\\br}{\\mathbf{r}}\n",
        "\\newcommand{\\RR}{\\mathbb{R}}\n",
        "\\newcommand{\\Argmin}{\\mathrm{Argmin}}\n",
        "\\newcommand{\\st}{\\mathrm{s.t.}}\n",
        "$\n",
        "\n",
        "On considère le modèle d'observation suivant:\n",
        "$$\n",
        "\\by = \\bA\\bx_0 + \\be\n",
        "$$\n",
        "où $\\bA\\in\\RR^{m\\times n}$ est une matrice donnée, $\\by$ est le vecteur d'observation, $\\bx_0$ est le vecteur des vraies données à reconstituer et $\\be$ est un terme de bruit perturbateur.\n",
        "\n",
        "On suppose $m\\geq n$, c'est-à-dire plus d'observations que d'inconnues et on s'intéresse au problème:\n",
        "$$\n",
        "\\Argmin_\\bx \\Phi(\\br) = \\sum_{i=1}^m \\phi(r_i) \\quad \\st \\quad \\br=\\by-\\bA\\bx\n",
        "$$\n",
        "pour différentes fonctions $\\phi$ données ci-dessous:\n",
        "- $\\phi(.) = (.)^2$ : on a alors le problème de moindre norme $\\ell_2$,\n",
        "- $\\phi(.) = |.|$ : on a alors le problème de moindre norme $\\ell_1$,\n",
        "- $\\phi(.) = $ est la fonction \"dead-zone linear\" ou \"$\\alpha$-insensitive loss."
      ]
    },
    {
      "cell_type": "code",
      "metadata": {
        "id": "dDpfy06iN6kg"
      },
      "source": [
        "# Import de libraires\n",
        "# %matplotlib inline\n",
        "import sys\n",
        "import matplotlib.pyplot as plt\n",
        "import numpy as np\n",
        "sys.path.append('../')\n",
        "import tp2a"
      ],
      "execution_count": null,
      "outputs": []
    },
    {
      "cell_type": "markdown",
      "metadata": {
        "id": "wk9B9_UnsXbQ"
      },
      "source": [
        "Nous avons travaillé tout au long de ce TP sur le problème de moindre norme. Le système du modèle d'observation étudié est un système sur-déterminé c'est-à-dire que le nombre d'observations effectué est supérieur aux inconnues de notre problème. Nous avons programmé différents algorithmes qui nous ont permis de minimiser un certain nombre de norme et avons tracé des histogrammes des différents résidus associés à chacun des programmes."
      ]
    },
    {
      "cell_type": "markdown",
      "metadata": {
        "id": "7IgNinS7N6lk"
      },
      "source": [
        "### Approximation, problème de moindre norme"
      ]
    },
    {
      "cell_type": "markdown",
      "metadata": {
        "id": "-Qzi4oiJN6lv"
      },
      "source": [
        "Reprogrammer la fonction `tp2a.educ.approx_l2(A, y)` qui donne $\\hat{\\bx}_{\\ell_2}= \\Argmin_{\\bx}  \\|\\by-\\bA\\bx\\|_2^2$."
      ]
    },
    {
      "cell_type": "markdown",
      "metadata": {
        "id": "ge2iJ5-yrx3N"
      },
      "source": [
        "###Code de la fonction approax_l2"
      ]
    },
    {
      "cell_type": "code",
      "metadata": {
        "id": "blbPq78pN6l5"
      },
      "source": [
        "def approax_l2(A,y):\n",
        "  x_l2 = np.linalg.lstsq(A,y)\n",
        "  return x_l2"
      ],
      "execution_count": null,
      "outputs": []
    },
    {
      "cell_type": "markdown",
      "metadata": {
        "id": "7uq6Gn-mtsth"
      },
      "source": [
        "Nous avons utilisé la fonction linalg.lstsq de numpy qui permet de résoudre Ax=y en trouvant un vecteur x qui minimise la norme l2"
      ]
    },
    {
      "cell_type": "markdown",
      "metadata": {
        "id": "bV5r-I82N6mo"
      },
      "source": [
        "Reprogrammer une fonction `tp2a.lpalgs.approx_l1(A, y)` qui donne $\\hat{\\bx}_{\\ell_1} = \\Argmin_{\\bx}\\|\\by-\\bA\\bx\\|_1$ et une fonction `approx_dzl(A, y)` qui renvoit $\\hat{\\bx}_{\\mathrm{dzl}} = \\Argmin_{\\bx} \\mathrm{dzl}(\\by-\\bA\\bx)$ où $\\mathrm{dzl}(u) = \\max(0,|u|-\\alpha)$ \n",
        "\n",
        "<u>Indication</u>: ces problèmes se transforment en LP et le solveur scipy.optimize.linprog pourra être utilisé avec la méthode \"interior-point\")."
      ]
    },
    {
      "cell_type": "code",
      "metadata": {
        "id": "bhRfPCMhN6mw"
      },
      "source": [
        "## voir tp2a.lpalgs.approx_l1 / tp2a.lpalgs.approx_dzl\n",
        "from scipy.optimize import linprog"
      ],
      "execution_count": null,
      "outputs": []
    },
    {
      "cell_type": "markdown",
      "metadata": {
        "id": "TDahCV8k234Y"
      },
      "source": [
        "###Code de la fonction approax_l1!\n",
        "\n",
        "\n"
      ]
    },
    {
      "cell_type": "code",
      "metadata": {
        "id": "TbVf4FohHsPh"
      },
      "source": [
        "def approax_11(A,y):\n",
        "  m, n = A.shape\n",
        "  c = np.concatenate((np.ones(m), np.zeros(n)))\n",
        "  M = np.concatenate((-np.eye(m,m), -np.eye(m)), axis=0)\n",
        "  N = np.concatenate((A,-A))\n",
        "  A_b = np.concatenate((M,N), axis=1)\n",
        "  b_b = np.concatenate((y,-y))\n",
        "  opt = linprog(c, A_b, b_b, method='interior-point')\n",
        "  x = opt.x[m:]\n",
        "  value = opt.fun\n",
        "  return x, value\n"
      ],
      "execution_count": null,
      "outputs": []
    },
    {
      "cell_type": "markdown",
      "metadata": {
        "id": "fMlpkNOK3J8I"
      },
      "source": [
        "###Code de la fonction approax_dzl"
      ]
    },
    {
      "cell_type": "code",
      "metadata": {
        "id": "b-jiB1cc22AM"
      },
      "source": [
        "def approax_dzl(A,y,alpha):\n",
        "  m, n = A.shape\n",
        "  c = np.concatenate((np.ones(m), np.zeros(n)))\n",
        "  M = np.concatenate((-np.eye(m,m), -np.eye(m), -np.eye(m)), axis=0)\n",
        "  N = np.concatenate((A,-A, np.zeros([m,n])),axis=0)\n",
        "  A_b = np.concatenate((M,N), axis=1)\n",
        "  b_b = np.concatenate((y+np.ones(m)*alpha, -y+np.ones(m)*alpha, np.zeros(m)))\n",
        "  opt = linprog(c, A_b, b_b, method='interior-point')\n",
        "  x = opt.x[m:]\n",
        "  value = opt.fun\n",
        "  return x, value"
      ],
      "execution_count": null,
      "outputs": []
    },
    {
      "cell_type": "markdown",
      "metadata": {
        "id": "rahFF_7FN6nc"
      },
      "source": [
        "Tirer $\\bA$ de taille $m\\times n$ et $\\by$ de taille $m$ aléatoirement (loi gaussienne, éléments indépendants).\n",
        "Tracer l'histograme des résidus $\\by-\\bA\\hat{\\bx}_{\\ell_2}$, $\\by-\\bA\\hat{\\bx}_{\\ell_1}$ et $\\by-\\bA\\hat{\\bx}_{\\mathrm{dzl}}$. Commenter les résultats."
      ]
    },
    {
      "cell_type": "code",
      "metadata": {
        "id": "qszdgvEzN6nl",
        "colab": {
          "base_uri": "https://localhost:8080/",
          "height": 1000
        },
        "outputId": "eea0df2b-d101-443e-aa00-dbc1e5ed1e50"
      },
      "source": [
        "m, n = 200, 100\n",
        "A = np.random.randn(m,n)\n",
        "y = np.random.randn(m)\n",
        "\n",
        "xl2 = approax_l2(A,y)[0]\n",
        "xl1 = approax_11(A,y)[0]\n",
        "xdzl = approax_dzl(A, y, 0.5)[0]\n",
        "\n",
        "fig, axs = plt.subplots(3,1)\n",
        "_ = axs[0].hist(y - A.dot(xl2), bins=100)\n",
        "_ = axs[1].hist(y - A.dot(xl1), bins=100)\n",
        "_ = axs[2].hist(y - A.dot(xdzl), bins=100)\n",
        "\n",
        "fig, axs = plt.subplots()\n",
        "plt.hist(y - A.dot(xl2), bins=100)\n",
        "plt.show()\n",
        "\n",
        "plt.hist(y - A.dot(xl1), bins=100)\n",
        "plt.show()\n",
        "\n",
        "plt.hist(y - A.dot(xdzl), bins=100)\n",
        "plt.show()\n"
      ],
      "execution_count": null,
      "outputs": [
        {
          "output_type": "stream",
          "text": [
            "/usr/local/lib/python3.6/dist-packages/ipykernel_launcher.py:2: FutureWarning: `rcond` parameter will change to the default of machine precision times ``max(M, N)`` where M and N are the input matrix dimensions.\n",
            "To use the future default and silence this warning we advise to pass `rcond=None`, to keep using the old, explicitly pass `rcond=-1`.\n",
            "  \n"
          ],
          "name": "stderr"
        },
        {
          "output_type": "display_data",
          "data": {
            "image/png": "[encoded data removed]",
            "text/plain": [
              "<Figure size 432x288 with 3 Axes>"
            ]
          },
          "metadata": {
            "tags": []
          }
        },
        {
          "output_type": "display_data",
          "data": {
            "image/png": "[encoded data removed]",
            "text/plain": [
              "<Figure size 432x288 with 1 Axes>"
            ]
          },
          "metadata": {
            "tags": []
          }
        },
        {
          "output_type": "display_data",
          "data": {
            "image/png": "[encoded data removed]",
            "text/plain": [
              "<Figure size 432x288 with 1 Axes>"
            ]
          },
          "metadata": {
            "tags": []
          }
        },
        {
          "output_type": "display_data",
          "data": {
            "image/png": "[encoded data removed]",
            "text/plain": [
              "<Figure size 432x288 with 1 Axes>"
            ]
          },
          "metadata": {
            "tags": []
          }
        }
      ]
    },
    {
      "cell_type": "markdown",
      "metadata": {
        "id": "c5svgm7pxyDn"
      },
      "source": [
        "Comme nous pouvons le voir à travers ces histogrammes, on constate que pour une matrice aléatoire tirée aléatoirement, les résidus varient sur le type méthode implémentée. On observe de forts résidus pour la première méthode ($\\by-\\bA\\hat{\\bx}_{\\ell_2}$). Par ailleurs, les résidus correspondants aux deux dernières méthodes restent relativement faibles. Pour la **norme l2**, les gros résidus sont fortement pénalisés contrairement à la **norme l1**. On en déduit que l2 est très affectée par les valeurs abérrantes"
      ]
    },
    {
      "cell_type": "code",
      "metadata": {
        "id": "vZLoVUNs5XBV"
      },
      "source": [
        ""
      ],
      "execution_count": null,
      "outputs": []
    }
  ]
}