{
  "nbformat": 4,
  "nbformat_minor": 0,
  "metadata": {
    "colab": {
      "name": "Projet_deep learning",
      "provenance": [],
      "collapsed_sections": []
    },
    "kernelspec": {
      "name": "python3",
      "display_name": "Python 3"
    }
  },
  "cells": [
    {
      "cell_type": "markdown",
      "metadata": {
        "id": "G32YvEMBcPyC"
      },
      "source": [
        "For this notebook you need to install:\n",
        "\n",
        "- `tensorflow`\n",
        "- `keras`\n",
        "- `keras-vis`\n",
        "\n",
        "The easiest way is to first install the `anaconda` distribution for `python` (preferably `Python 3`) and then use in a terminal\n",
        "\n",
        "    conda install pip\n",
        " \n",
        "`pip` is the python package installation tool. Then, you can simply use\n",
        "\n",
        "    pip install tensorflow\n",
        "    pip install keras\n",
        "    pip install keras-vis\n",
        "\n",
        "which should install everything easily.\n",
        "\n",
        "The `numpy` library does some expensive operations outside Python using efficient code (Fortran, C/C++). However, switching back to python after each operation cause a big overhead because of unnecessary copies of the data. \n",
        "\n",
        "The library `tensorflow` does all the computations outside of Python: the python API is used to define a graph of operations, that will run entirely using C++ binaries. This architecture allows to get rid of the overhead. Besides, knowing the computational graph beforehand allows to parallelize and/or distribute the computation more easily. As a result, `tensoflow` can run the computations on multiple CPUs or GPUs, and on multiple servers.\n",
        "\n",
        "However, for quick an easy model prototying, the library `keras` is simpler to use than `tensorflow`. \n",
        "Deep learning models can be constructed thanks to `keras` in few lines of python. So in this notebook, we won't see direct calls to `tensorflow`, but only to `keras`, even if the computations are done by `tensorflow`."
      ]
    },
    {
      "cell_type": "code",
      "metadata": {
        "id": "ppxdvi4ZcXO5"
      },
      "source": [
        "from __future__ import print_function\n",
        "\n",
        "import numpy as np\n",
        "import matplotlib.pyplot as plt\n",
        "%matplotlib inline\n",
        "\n",
        "\n",
        "\n",
        "import pickle as pkl\n",
        "\n",
        "import tensorflow\n",
        "import keras\n",
        "from keras import optimizers\n",
        "from keras import backend as K\n",
        "from keras.datasets import mnist\n",
        "from keras.models import Sequential\n",
        "from keras.layers import Dense, Dropout, Flatten\n",
        "from keras.layers import Conv2D, MaxPooling2D\n",
        "import warnings\n",
        "warnings.filterwarnings(\"ignore\")\n",
        "from keras.wrappers.scikit_learn import KerasRegressor, KerasClassifier\n",
        "from sklearn.model_selection import GridSearchCV\n",
        "from sklearn.metrics import classification_report\n",
        "from sklearn.model_selection import KFold\n",
        "KFold\n",
        "\n",
        "print(\"tensorflow version %s (should be at least 0.12.1)\" % tensorflow.__version__)\n",
        "print(\"keras version %s (should be at least 2.0.7)\" % keras.__version__)"
      ],
      "execution_count": null,
      "outputs": []
    },
    {
      "cell_type": "markdown",
      "metadata": {
        "id": "qEWeE5h7dWAP"
      },
      "source": [
        "### <font color=darkred> Handwritten digit recognition with MNIST</font>\n",
        "\n",
        "For the first part of this tutorial, we will use the [MNIST](http://yann.lecun.com/exdb/mnist) dataset.\n",
        "This dataset contains images representing handwritten digits. \n",
        "Each image is 28 x 28 pixels, and each pixel is represented by a number (gray level). \n",
        "These arrays can be flattened into vectors of 28 x 28 = 784 numbers.\n",
        "You can then see each image as a point in a 784-dimensional vector space. \n",
        "You can find interesting visualisations of this vector space [http://colah.github.io/posts/2014-10-Visualizing-MNIST/](http://colah.github.io/posts/2014-10-Visualizing-MNIST/).\n",
        "\n",
        "The labels in $\\{0, 1, 2, \\ldots, 9\\}$ giving the digit on the image are be represented using one-hot encoding: labels in $\\{0, 1, 2, \\ldots, 9\\}$ are replaced by labels in $\\{ 0, 1\\}^{10}$, namely $0$ is replaced by $(1, 0, \\ldots 0)$, $1$ is replaced by $(0, 1, 0, \\ldots 0)$, $2$ is replaced by $(0, 0, 1, 0, \\ldots, 0)$, etc.\n",
        "\n",
        "Also, MNIST data is grayscale pixels in $\\{0, \\ldots, 255\\}$. The pixels should be normalized to belong to $[0, 1]$.\n",
        "Indeed, working with big floats can lead to important numerical errors, in particular in deep learning models."
      ]
    },
    {
      "cell_type": "markdown",
      "metadata": {
        "id": "5cEPWuFedgzb"
      },
      "source": [
        "MNIST is a very old and standard benchmark dataset for image classification, so it's built-in (ready to be downloaded) in all machine learning libraries (including `keras` and `tensorflow`)."
      ]
    },
    {
      "cell_type": "code",
      "metadata": {
        "id": "d_uLnTYmdabK",
        "colab": {
          "base_uri": "https://localhost:8080/",
          "height": 118
        },
        "outputId": "2e081435-31e9-4c62-c527-5ede2f22032c"
      },
      "source": [
        "# Number of classes\n",
        "num_classes = 10\n",
        "# input image dimensions\n",
        "img_rows, img_cols = 28, 28\n",
        "\n",
        "# the data, shuffled and split between train and test sets\n",
        "(x_train, y_train), (x_test, y_test) = mnist.load_data()\n",
        "\n",
        "if K.image_data_format() == 'channels_first':\n",
        "    x_train = x_train.reshape(x_train.shape[0], 1, img_rows, img_cols)\n",
        "    x_test = x_test.reshape(x_test.shape[0], 1, img_rows, img_cols)\n",
        "    input_shape = (1, img_rows, img_cols)\n",
        "else:\n",
        "    x_train = x_train.reshape(x_train.shape[0], img_rows, img_cols, 1)\n",
        "    x_test = x_test.reshape(x_test.shape[0], img_rows, img_cols, 1)\n",
        "    input_shape = (img_rows, img_cols, 1)\n",
        "\n",
        "x_train = x_train.astype('float32')\n",
        "x_test = x_test.astype('float32')\n",
        "\n",
        "print('x_train shape:', x_train.shape)\n",
        "print('x_test shape:', x_test.shape)\n",
        "print('y_train shape:', y_train.shape)\n",
        "print('y_test shape:', y_test.shape)\n",
        "\n",
        "print(x_train.shape[0], 'train samples')\n",
        "print(x_test.shape[0], 'test samples')"
      ],
      "execution_count": null,
      "outputs": [
        {
          "output_type": "stream",
          "text": [
            "x_train shape: (60000, 28, 28, 1)\n",
            "x_test shape: (10000, 28, 28, 1)\n",
            "y_train shape: (60000,)\n",
            "y_test shape: (10000,)\n",
            "60000 train samples\n",
            "10000 test samples\n"
          ],
          "name": "stdout"
        }
      ]
    },
    {
      "cell_type": "markdown",
      "metadata": {
        "id": "q6g1lzFZenPg"
      },
      "source": [
        "In the next cell we illustrate the first for elements of the training data: \n",
        "pixels grayscale of the digit and their corresponding label."
      ]
    },
    {
      "cell_type": "code",
      "metadata": {
        "id": "K1GAGaGndok_",
        "colab": {
          "base_uri": "https://localhost:8080/",
          "height": 159
        },
        "outputId": "b367f91e-6fe1-490f-b4af-eadf1cac29a8"
      },
      "source": [
        "plt.figure(figsize=(8, 2))\n",
        "for i in range(4):\n",
        "    plt.subplot(1, 4, i+1)\n",
        "    plt.imshow(x_train[i].reshape(28, 28), \n",
        "               interpolation=\"none\", cmap=\"gray_r\")\n",
        "    plt.title('Label=%d' % y_train[i], fontsize=14)\n",
        "    plt.axis(\"off\")\n",
        "plt.tight_layout()"
      ],
      "execution_count": null,
      "outputs": [
        {
          "output_type": "display_data",
          "data": {
            "image/png": "[encoded data removed]",
            "text/plain": [
              "<Figure size 576x144 with 4 Axes>"
            ]
          },
          "metadata": {
            "tags": []
          }
        }
      ]
    },
    {
      "cell_type": "code",
      "metadata": {
        "id": "_WY1EeZoewRk",
        "colab": {
          "base_uri": "https://localhost:8080/",
          "height": 297
        },
        "outputId": "ee18387b-13ee-4eee-e1f9-a4de93549fa2"
      },
      "source": [
        "n_rows = 4\n",
        "n_cols = 8\n",
        "plt.figure(figsize=(8, 4))\n",
        "for i in range(n_rows * n_cols):\n",
        "    plt.subplot(n_rows, n_cols, i+1)\n",
        "    plt.imshow(x_train[i].reshape(28, 28),\n",
        "               interpolation=\"none\", cmap=\"gray_r\")\n",
        "    plt.axis(\"off\")\n",
        "plt.tight_layout()"
      ],
      "execution_count": null,
      "outputs": [
        {
          "output_type": "display_data",
          "data": {
            "image/png": "[encoded data removed]",
            "text/plain": [
              "<Figure size 576x288 with 32 Axes>"
            ]
          },
          "metadata": {
            "tags": []
          }
        }
      ]
    },
    {
      "cell_type": "markdown",
      "metadata": {
        "id": "p2mPO4hQe3Fq"
      },
      "source": [
        "The first character is a 5 digit, encoded in grayscale matrix."
      ]
    },
    {
      "cell_type": "markdown",
      "metadata": {
        "id": "gxC1TqMpe6FW"
      },
      "source": [
        "We need to normalize the images and one-hot encode the labels."
      ]
    },
    {
      "cell_type": "code",
      "metadata": {
        "id": "MFQBVTu_ezlx"
      },
      "source": [
        "x_train /= 255\n",
        "x_test /= 255"
      ],
      "execution_count": null,
      "outputs": []
    },
    {
      "cell_type": "code",
      "metadata": {
        "id": "dhcvgiK5fAGb",
        "colab": {
          "base_uri": "https://localhost:8080/",
          "height": 185
        },
        "outputId": "4bebcb92-0659-4099-d33b-5bc2f1fc9efc"
      },
      "source": [
        "# convert class vectors to binary class matrices\n",
        "y_train = keras.utils.to_categorical(y_train, num_classes)\n",
        "y_test = keras.utils.to_categorical(y_test, num_classes)\n",
        "y_train[:10]"
      ],
      "execution_count": null,
      "outputs": [
        {
          "output_type": "execute_result",
          "data": {
            "text/plain": [
              "array([[0., 0., 0., 0., 0., 1., 0., 0., 0., 0.],\n",
              "       [1., 0., 0., 0., 0., 0., 0., 0., 0., 0.],\n",
              "       [0., 0., 0., 0., 1., 0., 0., 0., 0., 0.],\n",
              "       [0., 1., 0., 0., 0., 0., 0., 0., 0., 0.],\n",
              "       [0., 0., 0., 0., 0., 0., 0., 0., 0., 1.],\n",
              "       [0., 0., 1., 0., 0., 0., 0., 0., 0., 0.],\n",
              "       [0., 1., 0., 0., 0., 0., 0., 0., 0., 0.],\n",
              "       [0., 0., 0., 1., 0., 0., 0., 0., 0., 0.],\n",
              "       [0., 1., 0., 0., 0., 0., 0., 0., 0., 0.],\n",
              "       [0., 0., 0., 0., 1., 0., 0., 0., 0., 0.]], dtype=float32)"
            ]
          },
          "metadata": {
            "tags": []
          },
          "execution_count": 6
        }
      ]
    },
    {
      "cell_type": "markdown",
      "metadata": {
        "id": "CVEXXSyYfGOT"
      },
      "source": [
        "### <font color=darkred> Softmax regression for MNIST</font>\n",
        "\n",
        "Logistic regression can be extended to classify data in more than two groups. Softmax regression provides a model for the probability that an input $x$ is associated with each group.  It is assumed that the probability to belong to the class $k\\in\\{1,\\ldots,M\\}$ can be expressed by \n",
        "\\begin{equation*}\n",
        "\\mathbb{P}(Y = k| X) = \\frac{\\exp(\\langle w_k,X \\rangle + b_k)}{\\sum_{\\ell=1}^{M}\\exp(\\langle w_\\ell,X \\rangle + b_\\ell)} = p_k(X)\\,,\n",
        "\\end{equation*}\n",
        "where $w_\\ell \\in \\mathbb{R}^d$ and $b_\\ell$  are model `weights` and `intercepts` for each class.\n",
        "\n",
        "\n",
        "To estimate these unknown parameters, a maximum likelihood approach is used as in the logistic regression setting. In this case, the loss function is given by the negative log-likelihood (see also the section on gradient based method)."
      ]
    },
    {
      "cell_type": "markdown",
      "metadata": {
        "id": "dFeF0sNjfJSQ"
      },
      "source": [
        "To train the model weights $W_{k, j}$ and $b_k$ for $k=1, \\ldots, 10$ and $j=1, \\ldots, 784$, we consider the loss function given by the negative log-likelihood.\n",
        "For the considered model, the negative log-likelihood of a sample with input $x_i \\in \\mathbb R^{784}$ and label $y_i \\in \\{0, 1\\}^{10}$, it is given by the cross-entropy between the scores $p_k(x_i)$ and the label $y_i$:\n",
        "$$\n",
        "- \\sum_{k=1}^{10} y_{i, k} \\log(p_k(x_i))\n",
        "$$\n",
        "For this first model, we will simply use stochastic gradient descent over small batches of data. It can be done easily with TensorFlow, as it will automatically and efficiently compute the gradient from your graph, then apply an optimization algorithm of your choice to perform the parameters update."
      ]
    },
    {
      "cell_type": "code",
      "metadata": {
        "id": "t5i9YtkHfCul"
      },
      "source": [
        "#define the model\n",
        "\n",
        "def define_model():\n",
        "    \n",
        "    model = Sequential()\n",
        "# First we need to flatten the data: replace 28 * 28 matrices by flat vectors\n",
        "# This is always necessary before feeding data to a fully-connected layer (Dense object)\n",
        "    model.add(Flatten(input_shape=input_shape, name='flatten'))\n",
        "    model.add(Dense(num_classes, activation='softmax', name='dense_softmax'))\n",
        "    #compile model\n",
        "    model.compile(\n",
        "    # specify the loss as the cross-entropy\n",
        "        loss=keras.losses.categorical_crossentropy,\n",
        "    # choose the Adagrad solver, but you can choose others\n",
        "    \n",
        "        optimizer=keras.optimizers.Adagrad(),\n",
        "    # to monitor the accuracy on a testing set along optimization\n",
        "        metrics=['accuracy'])\n",
        "    \n",
        "    return model"
      ],
      "execution_count": null,
      "outputs": []
    },
    {
      "cell_type": "code",
      "metadata": {
        "id": "EmF8t5PhgpoF",
        "colab": {
          "base_uri": "https://localhost:8080/",
          "height": 910
        },
        "outputId": "74595833-e681-472c-fded-368197b25e45"
      },
      "source": [
        "# number of data used for each update of the parameter (each gradient computation)\n",
        "batch_size = 64\n",
        "# number of times data are scanned\n",
        "epochs = 10\n",
        "\n",
        "model = define_model()\n",
        "\n",
        "# Run the train\n",
        "history = model.fit(x_train, y_train,\n",
        "                    batch_size=batch_size,\n",
        "                    epochs=epochs,\n",
        "                    verbose=1,\n",
        "                    validation_data=(x_test, y_test))\n",
        "score = model.evaluate(x_test, y_test, verbose=0)\n",
        "print('Test loss:', score[0])\n",
        "print('Test accuracy:', score[1])"
      ],
      "execution_count": null,
      "outputs": [
        {
          "output_type": "stream",
          "text": [
            "WARNING:tensorflow:From /usr/local/lib/python3.6/dist-packages/keras/backend/tensorflow_backend.py:66: The name tf.get_default_graph is deprecated. Please use tf.compat.v1.get_default_graph instead.\n",
            "\n",
            "WARNING:tensorflow:From /usr/local/lib/python3.6/dist-packages/keras/backend/tensorflow_backend.py:541: The name tf.placeholder is deprecated. Please use tf.compat.v1.placeholder instead.\n",
            "\n",
            "WARNING:tensorflow:From /usr/local/lib/python3.6/dist-packages/keras/backend/tensorflow_backend.py:4432: The name tf.random_uniform is deprecated. Please use tf.random.uniform instead.\n",
            "\n",
            "WARNING:tensorflow:From /usr/local/lib/python3.6/dist-packages/keras/optimizers.py:793: The name tf.train.Optimizer is deprecated. Please use tf.compat.v1.train.Optimizer instead.\n",
            "\n",
            "WARNING:tensorflow:From /usr/local/lib/python3.6/dist-packages/keras/backend/tensorflow_backend.py:3576: The name tf.log is deprecated. Please use tf.math.log instead.\n",
            "\n",
            "WARNING:tensorflow:From /usr/local/lib/python3.6/dist-packages/tensorflow_core/python/ops/math_grad.py:1424: where (from tensorflow.python.ops.array_ops) is deprecated and will be removed in a future version.\n",
            "Instructions for updating:\n",
            "Use tf.where in 2.0, which has the same broadcast rule as np.where\n",
            "WARNING:tensorflow:From /usr/local/lib/python3.6/dist-packages/keras/backend/tensorflow_backend.py:1033: The name tf.assign_add is deprecated. Please use tf.compat.v1.assign_add instead.\n",
            "\n",
            "WARNING:tensorflow:From /usr/local/lib/python3.6/dist-packages/keras/backend/tensorflow_backend.py:1020: The name tf.assign is deprecated. Please use tf.compat.v1.assign instead.\n",
            "\n",
            "WARNING:tensorflow:From /usr/local/lib/python3.6/dist-packages/keras/backend/tensorflow_backend.py:3005: The name tf.Session is deprecated. Please use tf.compat.v1.Session instead.\n",
            "\n",
            "Train on 60000 samples, validate on 10000 samples\n",
            "Epoch 1/10\n",
            "WARNING:tensorflow:From /usr/local/lib/python3.6/dist-packages/keras/backend/tensorflow_backend.py:190: The name tf.get_default_session is deprecated. Please use tf.compat.v1.get_default_session instead.\n",
            "\n",
            "WARNING:tensorflow:From /usr/local/lib/python3.6/dist-packages/keras/backend/tensorflow_backend.py:197: The name tf.ConfigProto is deprecated. Please use tf.compat.v1.ConfigProto instead.\n",
            "\n",
            "WARNING:tensorflow:From /usr/local/lib/python3.6/dist-packages/keras/backend/tensorflow_backend.py:207: The name tf.global_variables is deprecated. Please use tf.compat.v1.global_variables instead.\n",
            "\n",
            "WARNING:tensorflow:From /usr/local/lib/python3.6/dist-packages/keras/backend/tensorflow_backend.py:216: The name tf.is_variable_initialized is deprecated. Please use tf.compat.v1.is_variable_initialized instead.\n",
            "\n",
            "WARNING:tensorflow:From /usr/local/lib/python3.6/dist-packages/keras/backend/tensorflow_backend.py:223: The name tf.variables_initializer is deprecated. Please use tf.compat.v1.variables_initializer instead.\n",
            "\n",
            "60000/60000 [==============================] - 2s 28us/step - loss: 0.4952 - acc: 0.8731 - val_loss: 0.3671 - val_acc: 0.9036\n",
            "Epoch 2/10\n",
            "60000/60000 [==============================] - 2s 25us/step - loss: 0.3626 - acc: 0.9016 - val_loss: 0.3337 - val_acc: 0.9101\n",
            "Epoch 3/10\n",
            "60000/60000 [==============================] - 2s 25us/step - loss: 0.3379 - acc: 0.9078 - val_loss: 0.3190 - val_acc: 0.9131\n",
            "Epoch 4/10\n",
            "60000/60000 [==============================] - 2s 26us/step - loss: 0.3249 - acc: 0.9105 - val_loss: 0.3094 - val_acc: 0.9149\n",
            "Epoch 5/10\n",
            "60000/60000 [==============================] - 2s 26us/step - loss: 0.3164 - acc: 0.9127 - val_loss: 0.3038 - val_acc: 0.9159\n",
            "Epoch 6/10\n",
            "60000/60000 [==============================] - 2s 25us/step - loss: 0.3101 - acc: 0.9138 - val_loss: 0.2991 - val_acc: 0.9170\n",
            "Epoch 7/10\n",
            "60000/60000 [==============================] - 2s 26us/step - loss: 0.3054 - acc: 0.9152 - val_loss: 0.2957 - val_acc: 0.9178\n",
            "Epoch 8/10\n",
            "60000/60000 [==============================] - 2s 28us/step - loss: 0.3015 - acc: 0.9164 - val_loss: 0.2927 - val_acc: 0.9192\n",
            "Epoch 9/10\n",
            "60000/60000 [==============================] - 2s 27us/step - loss: 0.2983 - acc: 0.9171 - val_loss: 0.2902 - val_acc: 0.9185\n",
            "Epoch 10/10\n",
            "60000/60000 [==============================] - 2s 27us/step - loss: 0.2956 - acc: 0.9179 - val_loss: 0.2882 - val_acc: 0.9200\n",
            "Test loss: 0.28823024274706843\n",
            "Test accuracy: 0.92\n"
          ],
          "name": "stdout"
        }
      ]
    },
    {
      "cell_type": "code",
      "metadata": {
        "id": "8GimXJMjgtJo",
        "colab": {
          "base_uri": "https://localhost:8080/",
          "height": 369
        },
        "outputId": "ee74a564-e357-4216-b2eb-2169ddd8ed38"
      },
      "source": [
        "plt.figure(figsize=(7, 5))\n",
        "plt.plot(history.epoch, history.history['acc'], lw=3, label='Training')\n",
        "plt.plot(history.epoch, history.history['val_acc'], lw=3, label='Testing')\n",
        "plt.legend(fontsize=14)\n",
        "plt.title('Classification accuracy', fontsize=16)\n",
        "plt.xlabel('Epoch', fontsize=14)\n",
        "plt.ylabel('Accuracy', fontsize=14)\n",
        "plt.tight_layout()"
      ],
      "execution_count": null,
      "outputs": [
        {
          "output_type": "display_data",
          "data": {
            "image/png": "[encoded data removed]",
            "text/plain": [
              "<Figure size 504x360 with 1 Axes>"
            ]
          },
          "metadata": {
            "tags": []
          }
        }
      ]
    },
    {
      "cell_type": "markdown",
      "metadata": {
        "id": "u1VuAhNAlIFI"
      },
      "source": [
        "# Before analyzing the influence of the batch_size and epochs, we going to use randoms values and evaluate our model using K-fold cross validation. After that, we will use gridsearch to look for the best parameters that provide the highest accuracy."
      ]
    },
    {
      "cell_type": "markdown",
      "metadata": {
        "id": "Tsuq_XdXihqS"
      },
      "source": [
        "# evaluate using k-fold cross validation"
      ]
    },
    {
      "cell_type": "code",
      "metadata": {
        "id": "DSqFID2chwUs"
      },
      "source": [
        "# evaluate using k-fold cross validation\n",
        "# Each test set will be 20% of the training dataset. Before splittint the dataset, we shuffle it\n",
        "#The model will be trained with a batchsize of 32\n",
        "\n",
        "def evaluate_model(dataX, dataY, n_folds=5):\n",
        "    scores, histories = list(), list()\n",
        "    # prepare cross validation\n",
        "    kfold = KFold(n_folds, shuffle=True, random_state=1)\n",
        "    # enumerate splits\n",
        "    for train_ix, test_ix in kfold.split(dataX):\n",
        "        #define model\n",
        "        model = define_model()\n",
        "        # select rows for train and test\n",
        "        x_train, y_train, x_test, y_test = dataX[train_ix], dataY[train_ix], dataX[test_ix], dataY[test_ix]\n",
        "        # fit model\n",
        "        history = model.fit(x_train, y_train, epochs=20, batch_size=32, validation_data=(x_test, y_test), verbose=0)\n",
        "        # evaluate model\n",
        "        _, acc = model.evaluate(x_test, y_test, verbose=0)\n",
        "        print('> %.3f' % (acc * 100.0))\n",
        "        # stores scores\n",
        "        scores.append(acc)\n",
        "        histories.append(history)\n",
        "        return scores, histories"
      ],
      "execution_count": null,
      "outputs": []
    },
    {
      "cell_type": "code",
      "metadata": {
        "id": "F5HauW2XikIl",
        "colab": {
          "base_uri": "https://localhost:8080/",
          "height": 50
        },
        "outputId": "5837641c-ab94-4fd3-fe38-9b22d8d269a8"
      },
      "source": [
        "evaluate_model(x_train, y_train)\n"
      ],
      "execution_count": null,
      "outputs": [
        {
          "output_type": "stream",
          "text": [
            "> 91.933\n"
          ],
          "name": "stdout"
        },
        {
          "output_type": "execute_result",
          "data": {
            "text/plain": [
              "([0.9193333333333333], [<keras.callbacks.History at 0x7effd9a96400>])"
            ]
          },
          "metadata": {
            "tags": []
          },
          "execution_count": 11
        }
      ]
    },
    {
      "cell_type": "markdown",
      "metadata": {
        "id": "BXzMMzUEl6iM"
      },
      "source": [
        "Our model achieves more than 90% accuracy. These are good results"
      ]
    },
    {
      "cell_type": "code",
      "metadata": {
        "id": "uAfRLMzXi5GO"
      },
      "source": [
        "\n",
        "# Let's plot the results\n",
        "def summarize_diagnostics(histories):\n",
        "    for i in range(len(histories)):\n",
        "         # plot loss\n",
        "        plt.subplot(2, 1, 1)\n",
        "        plt.title('Cross Entropy Loss')\n",
        "        plt.plot(histories[i].history['loss'], color='blue', label='train')\n",
        "        plt.plot(histories[i].history['val_loss'], color='orange', label='test')\n",
        "        # plot accuracy\n",
        "        print(' ')\n",
        "        plt.subplot(2, 1, 2)\n",
        "        plt.title('Classification Accuracy')\n",
        "        plt.plot(histories[i].history['acc'], color='blue', label='train')\n",
        "        plt.plot(histories[i].history['val_acc'], color='orange', label='test')\n",
        "    plt.show()"
      ],
      "execution_count": null,
      "outputs": []
    },
    {
      "cell_type": "code",
      "metadata": {
        "id": "xTn1D2IZjfJZ",
        "colab": {
          "base_uri": "https://localhost:8080/",
          "height": 314
        },
        "outputId": "3b9b7653-03c1-4ee1-9a68-9c83960a23f5"
      },
      "source": [
        "scores, histories = evaluate_model(x_train, y_train)\n",
        "summarize_diagnostics(histories)"
      ],
      "execution_count": null,
      "outputs": [
        {
          "output_type": "stream",
          "text": [
            "> 91.975\n",
            " \n"
          ],
          "name": "stdout"
        },
        {
          "output_type": "display_data",
          "data": {
            "image/png": "[encoded data removed]",
            "text/plain": [
              "<Figure size 432x288 with 2 Axes>"
            ]
          },
          "metadata": {
            "tags": []
          }
        }
      ]
    },
    {
      "cell_type": "markdown",
      "metadata": {
        "id": "Fz1uRZANkfJ-"
      },
      "source": [
        "Our model achives a good fit\n",
        "There is no obvious signs of over-or underfitting "
      ]
    },
    {
      "cell_type": "code",
      "metadata": {
        "id": "LkMTKvQ_kxjs",
        "colab": {
          "base_uri": "https://localhost:8080/",
          "height": 34
        },
        "outputId": "f1a99215-0e8e-413d-de5d-6d74a160c643"
      },
      "source": [
        "print (np.mean(scores) * 100)"
      ],
      "execution_count": null,
      "outputs": [
        {
          "output_type": "stream",
          "text": [
            "91.975\n"
          ],
          "name": "stdout"
        }
      ]
    },
    {
      "cell_type": "markdown",
      "metadata": {
        "id": "92g4UjGgkTpG"
      },
      "source": [
        "**Question**\n",
        "\n",
        "Run a cross-validation to analyze the influence of the number of epochs and the batch-size."
      ]
    },
    {
      "cell_type": "markdown",
      "metadata": {
        "id": "z3k-fMQIqcha"
      },
      "source": [
        "# In the K-fold cross validation, we used a random value batch_size(32) and epoch(20). We were lucky the values chosen achieve a good fit. Now we will choose a set of parameters to train our model in order to find the parameters that provide us with the highest accuracy"
      ]
    },
    {
      "cell_type": "markdown",
      "metadata": {
        "id": "VOeVjpGVk7DS"
      },
      "source": [
        "# Cross Validation With Parameter Tuning Using Grid Search"
      ]
    },
    {
      "cell_type": "code",
      "metadata": {
        "id": "OZfKLz2Djiwa",
        "colab": {
          "base_uri": "https://localhost:8080/",
          "height": 1000
        },
        "outputId": "83c30165-d163-4dd3-e753-7211d16f945f"
      },
      "source": [
        "#create a dictionary of all the parameters and their corresponding set of values that you want to test for best performance. \n",
        "estimator = KerasClassifier(build_fn=define_model)\n",
        "param_grid = {\n",
        "    'batch_size': [16, 32, 64],\n",
        "    'epochs': [20, 30],\n",
        "}\n",
        "\n",
        "#The grid search will try all combinations of parameter values \n",
        "#and select the set of parameters which provides the most accurate model\n",
        "\n",
        "gr_sr = GridSearchCV(\n",
        "    estimator=estimator,\n",
        "    param_grid=param_grid,\n",
        "    n_jobs=-1,\n",
        "    cv=5,\n",
        ")\n",
        "gr_sr.fit(x_train, y_train)"
      ],
      "execution_count": null,
      "outputs": [
        {
          "output_type": "stream",
          "text": [
            "Epoch 1/30\n",
            "60000/60000 [==============================] - 5s 77us/step - loss: 0.4446 - acc: 0.8841\n",
            "Epoch 2/30\n",
            "60000/60000 [==============================] - 4s 74us/step - loss: 0.3471 - acc: 0.9052\n",
            "Epoch 3/30\n",
            "60000/60000 [==============================] - 4s 74us/step - loss: 0.3277 - acc: 0.9098\n",
            "Epoch 4/30\n",
            "60000/60000 [==============================] - 4s 73us/step - loss: 0.3170 - acc: 0.9125\n",
            "Epoch 5/30\n",
            "60000/60000 [==============================] - 4s 73us/step - loss: 0.3098 - acc: 0.9140\n",
            "Epoch 6/30\n",
            "60000/60000 [==============================] - 4s 72us/step - loss: 0.3045 - acc: 0.9159\n",
            "Epoch 7/30\n",
            "60000/60000 [==============================] - 4s 74us/step - loss: 0.3005 - acc: 0.9170\n",
            "Epoch 8/30\n",
            "60000/60000 [==============================] - 4s 74us/step - loss: 0.2971 - acc: 0.9176\n",
            "Epoch 9/30\n",
            "60000/60000 [==============================] - 4s 71us/step - loss: 0.2943 - acc: 0.9182\n",
            "Epoch 10/30\n",
            "60000/60000 [==============================] - 4s 73us/step - loss: 0.2919 - acc: 0.9184\n",
            "Epoch 11/30\n",
            "60000/60000 [==============================] - 4s 74us/step - loss: 0.2897 - acc: 0.9188\n",
            "Epoch 12/30\n",
            "60000/60000 [==============================] - 4s 74us/step - loss: 0.2879 - acc: 0.9194\n",
            "Epoch 13/30\n",
            "60000/60000 [==============================] - 4s 74us/step - loss: 0.2862 - acc: 0.9204\n",
            "Epoch 14/30\n",
            "60000/60000 [==============================] - 4s 73us/step - loss: 0.2848 - acc: 0.9206\n",
            "Epoch 15/30\n",
            "60000/60000 [==============================] - 4s 75us/step - loss: 0.2834 - acc: 0.9207\n",
            "Epoch 16/30\n",
            "60000/60000 [==============================] - 4s 73us/step - loss: 0.2822 - acc: 0.9214\n",
            "Epoch 17/30\n",
            "60000/60000 [==============================] - 4s 74us/step - loss: 0.2810 - acc: 0.9216\n",
            "Epoch 18/30\n",
            "60000/60000 [==============================] - 4s 71us/step - loss: 0.2800 - acc: 0.9216\n",
            "Epoch 19/30\n",
            "60000/60000 [==============================] - 4s 73us/step - loss: 0.2791 - acc: 0.9219\n",
            "Epoch 20/30\n",
            "60000/60000 [==============================] - 4s 72us/step - loss: 0.2781 - acc: 0.9223\n",
            "Epoch 21/30\n",
            "60000/60000 [==============================] - 4s 73us/step - loss: 0.2773 - acc: 0.9222\n",
            "Epoch 22/30\n",
            "60000/60000 [==============================] - 4s 73us/step - loss: 0.2765 - acc: 0.9226\n",
            "Epoch 23/30\n",
            "60000/60000 [==============================] - 4s 72us/step - loss: 0.2757 - acc: 0.9230\n",
            "Epoch 24/30\n",
            "60000/60000 [==============================] - 4s 74us/step - loss: 0.2750 - acc: 0.9231\n",
            "Epoch 25/30\n",
            "60000/60000 [==============================] - 4s 73us/step - loss: 0.2744 - acc: 0.9232\n",
            "Epoch 26/30\n",
            "60000/60000 [==============================] - 4s 73us/step - loss: 0.2737 - acc: 0.9235\n",
            "Epoch 27/30\n",
            "60000/60000 [==============================] - 4s 73us/step - loss: 0.2730 - acc: 0.9238\n",
            "Epoch 28/30\n",
            "60000/60000 [==============================] - 4s 73us/step - loss: 0.2725 - acc: 0.9236\n",
            "Epoch 29/30\n",
            "60000/60000 [==============================] - 4s 73us/step - loss: 0.2719 - acc: 0.9240\n",
            "Epoch 30/30\n",
            "60000/60000 [==============================] - 4s 74us/step - loss: 0.2714 - acc: 0.9243\n"
          ],
          "name": "stdout"
        },
        {
          "output_type": "execute_result",
          "data": {
            "text/plain": [
              "GridSearchCV(cv=5, error_score=nan,\n",
              "             estimator=<keras.wrappers.scikit_learn.KerasClassifier object at 0x7effda0e8588>,\n",
              "             iid='deprecated', n_jobs=-1,\n",
              "             param_grid={'batch_size': [16, 32, 64], 'epochs': [20, 30]},\n",
              "             pre_dispatch='2*n_jobs', refit=True, return_train_score=False,\n",
              "             scoring=None, verbose=0)"
            ]
          },
          "metadata": {
            "tags": []
          },
          "execution_count": 15
        }
      ]
    },
    {
      "cell_type": "code",
      "metadata": {
        "id": "RqXrx0GSlTmH",
        "colab": {
          "base_uri": "https://localhost:8080/",
          "height": 101
        },
        "outputId": "52a32f2a-dd2e-4eb1-8f83-6443c5a089ea"
      },
      "source": [
        "# View the best parameters for the model found using grid search\n",
        "best_parameters =  gr_sr.best_params_\n",
        "print(\"The best parameters are\")\n",
        "print(best_parameters)\n",
        "print(\"The best score\")\n",
        "print(gr_sr.best_score_)\n",
        "print()\n"
      ],
      "execution_count": null,
      "outputs": [
        {
          "output_type": "stream",
          "text": [
            "The best parameters are\n",
            "{'batch_size': 16, 'epochs': 30}\n",
            "The best score\n",
            "0.9182833333333333\n",
            "\n"
          ],
          "name": "stdout"
        }
      ]
    },
    {
      "cell_type": "code",
      "metadata": {
        "id": "OvJcYEZJo5fl",
        "colab": {
          "base_uri": "https://localhost:8080/",
          "height": 1000
        },
        "outputId": "722a87dd-e8f5-4167-836c-e8a948d7f459"
      },
      "source": [
        "#We going to use the set of parameters found with gridsearch and try them to our model\n",
        "\n",
        "model = define_model()\n",
        "history = model.fit(x_train, y_train,\n",
        "                    batch_size=16,\n",
        "                    epochs=30,\n",
        "                    verbose=1,\n",
        "                    validation_data=(x_test, y_test))\n",
        "score = model.evaluate(x_test, y_test, verbose=0)\n",
        "print('Test loss:', score[0])\n",
        "print('Test accuracy:', score[1])"
      ],
      "execution_count": null,
      "outputs": [
        {
          "output_type": "stream",
          "text": [
            "Train on 60000 samples, validate on 10000 samples\n",
            "Epoch 1/30\n",
            "60000/60000 [==============================] - 5s 85us/step - loss: 0.4423 - acc: 0.8839 - val_loss: 0.3458 - val_acc: 0.9070\n",
            "Epoch 2/30\n",
            "60000/60000 [==============================] - 5s 80us/step - loss: 0.3461 - acc: 0.9057 - val_loss: 0.3213 - val_acc: 0.9121\n",
            "Epoch 3/30\n",
            "60000/60000 [==============================] - 5s 79us/step - loss: 0.3268 - acc: 0.9103 - val_loss: 0.3091 - val_acc: 0.9150\n",
            "Epoch 4/30\n",
            "60000/60000 [==============================] - 5s 82us/step - loss: 0.3163 - acc: 0.9126 - val_loss: 0.3032 - val_acc: 0.9156\n",
            "Epoch 5/30\n",
            "60000/60000 [==============================] - 5s 81us/step - loss: 0.3093 - acc: 0.9146 - val_loss: 0.2973 - val_acc: 0.9178\n",
            "Epoch 6/30\n",
            "60000/60000 [==============================] - 5s 84us/step - loss: 0.3040 - acc: 0.9158 - val_loss: 0.2938 - val_acc: 0.9184\n",
            "Epoch 7/30\n",
            "60000/60000 [==============================] - 5s 85us/step - loss: 0.3000 - acc: 0.9172 - val_loss: 0.2909 - val_acc: 0.9192\n",
            "Epoch 8/30\n",
            "60000/60000 [==============================] - 5s 83us/step - loss: 0.2966 - acc: 0.9176 - val_loss: 0.2885 - val_acc: 0.9195\n",
            "Epoch 9/30\n",
            "60000/60000 [==============================] - 5s 82us/step - loss: 0.2939 - acc: 0.9185 - val_loss: 0.2866 - val_acc: 0.9204\n",
            "Epoch 10/30\n",
            "60000/60000 [==============================] - 5s 81us/step - loss: 0.2914 - acc: 0.9189 - val_loss: 0.2851 - val_acc: 0.9211\n",
            "Epoch 11/30\n",
            "60000/60000 [==============================] - 5s 83us/step - loss: 0.2894 - acc: 0.9196 - val_loss: 0.2833 - val_acc: 0.9216\n",
            "Epoch 12/30\n",
            "60000/60000 [==============================] - 5s 82us/step - loss: 0.2876 - acc: 0.9202 - val_loss: 0.2825 - val_acc: 0.9216\n",
            "Epoch 13/30\n",
            "60000/60000 [==============================] - 5s 83us/step - loss: 0.2858 - acc: 0.9204 - val_loss: 0.2816 - val_acc: 0.9209\n",
            "Epoch 14/30\n",
            "60000/60000 [==============================] - 5s 80us/step - loss: 0.2845 - acc: 0.9209 - val_loss: 0.2802 - val_acc: 0.9227\n",
            "Epoch 15/30\n",
            "60000/60000 [==============================] - 5s 81us/step - loss: 0.2831 - acc: 0.9209 - val_loss: 0.2802 - val_acc: 0.9222\n",
            "Epoch 16/30\n",
            "60000/60000 [==============================] - 5s 82us/step - loss: 0.2819 - acc: 0.9216 - val_loss: 0.2785 - val_acc: 0.9224\n",
            "Epoch 17/30\n",
            "60000/60000 [==============================] - 5s 84us/step - loss: 0.2808 - acc: 0.9216 - val_loss: 0.2775 - val_acc: 0.9227\n",
            "Epoch 18/30\n",
            "60000/60000 [==============================] - 5s 85us/step - loss: 0.2797 - acc: 0.9217 - val_loss: 0.2771 - val_acc: 0.9231\n",
            "Epoch 19/30\n",
            "60000/60000 [==============================] - 5s 85us/step - loss: 0.2788 - acc: 0.9220 - val_loss: 0.2762 - val_acc: 0.9228\n",
            "Epoch 20/30\n",
            "60000/60000 [==============================] - 5s 83us/step - loss: 0.2779 - acc: 0.9224 - val_loss: 0.2760 - val_acc: 0.9233\n",
            "Epoch 21/30\n",
            "60000/60000 [==============================] - 5s 81us/step - loss: 0.2770 - acc: 0.9229 - val_loss: 0.2753 - val_acc: 0.9229\n",
            "Epoch 22/30\n",
            "60000/60000 [==============================] - 5s 79us/step - loss: 0.2762 - acc: 0.9228 - val_loss: 0.2746 - val_acc: 0.9234\n",
            "Epoch 23/30\n",
            "60000/60000 [==============================] - 5s 82us/step - loss: 0.2754 - acc: 0.9230 - val_loss: 0.2742 - val_acc: 0.9237\n",
            "Epoch 24/30\n",
            "60000/60000 [==============================] - 5s 82us/step - loss: 0.2747 - acc: 0.9230 - val_loss: 0.2740 - val_acc: 0.9240\n",
            "Epoch 25/30\n",
            "60000/60000 [==============================] - 5s 83us/step - loss: 0.2740 - acc: 0.9234 - val_loss: 0.2738 - val_acc: 0.9241\n",
            "Epoch 26/30\n",
            "60000/60000 [==============================] - 5s 80us/step - loss: 0.2734 - acc: 0.9235 - val_loss: 0.2732 - val_acc: 0.9239\n",
            "Epoch 27/30\n",
            "60000/60000 [==============================] - 5s 81us/step - loss: 0.2728 - acc: 0.9239 - val_loss: 0.2727 - val_acc: 0.9238\n",
            "Epoch 28/30\n",
            "60000/60000 [==============================] - 5s 81us/step - loss: 0.2722 - acc: 0.9240 - val_loss: 0.2723 - val_acc: 0.9239\n",
            "Epoch 29/30\n",
            "60000/60000 [==============================] - 5s 81us/step - loss: 0.2716 - acc: 0.9243 - val_loss: 0.2725 - val_acc: 0.9238\n",
            "Epoch 30/30\n",
            "60000/60000 [==============================] - 5s 84us/step - loss: 0.2711 - acc: 0.9243 - val_loss: 0.2718 - val_acc: 0.9241\n",
            "Test loss: 0.2717776436299086\n",
            "Test accuracy: 0.9241\n"
          ],
          "name": "stdout"
        }
      ]
    },
    {
      "cell_type": "code",
      "metadata": {
        "id": "RjEVGhwypHM3",
        "colab": {
          "base_uri": "https://localhost:8080/",
          "height": 369
        },
        "outputId": "bccb5a13-9ca2-4ca8-8a44-0ce05ac86021"
      },
      "source": [
        "#Plot the results \n",
        "plt.figure(figsize=(7, 5))\n",
        "plt.plot(history.epoch, history.history['acc'], lw=3, label='Training')\n",
        "plt.plot(history.epoch, history.history['val_acc'], lw=3, label='Testing')\n",
        "plt.legend(fontsize=14)\n",
        "plt.title('Classification accuracy', fontsize=16)\n",
        "plt.xlabel('Epoch', fontsize=14)\n",
        "plt.ylabel('Accuracy', fontsize=14)\n",
        "plt.tight_layout()"
      ],
      "execution_count": null,
      "outputs": [
        {
          "output_type": "display_data",
          "data": {
            "image/png": "[encoded data removed]",
            "text/plain": [
              "<Figure size 504x360 with 1 Axes>"
            ]
          },
          "metadata": {
            "tags": []
          }
        }
      ]
    },
    {
      "cell_type": "markdown",
      "metadata": {
        "id": "AKbpyu2nyrZC"
      },
      "source": [
        "The accuracy found using the parameters is bigger than the one we had formally ( 0.92 > 0.88). Therefore we can conclude that the number of epochs has a signficant impact on the accuracy. The more epochs we have, the bigger the accuracy will be."
      ]
    },
    {
      "cell_type": "markdown",
      "metadata": {
        "id": "KFZaDOkk7624"
      },
      "source": [
        "Weight matrices plots show that the learned weights are consistant with the digits they should predict (see below).\n",
        "You should be able to see rough shapes corresponding to the digits 0, 1, 2, 3, etc."
      ]
    },
    {
      "cell_type": "code",
      "metadata": {
        "id": "aklZzdy6yWl0",
        "colab": {
          "base_uri": "https://localhost:8080/",
          "height": 346
        },
        "outputId": "299055fe-5d03-4290-c8a6-91b7a972c861"
      },
      "source": [
        "weights, biases = model.get_layer('dense_softmax').get_weights()\n",
        "imgs = weights.reshape(28, 28, 10)\n",
        "\n",
        "fig = plt.figure(figsize=(10, 5))\n",
        "vmin, vmax = imgs.min(), imgs.max()\n",
        "for i in range(10):\n",
        "    ax = plt.subplot(2, 5, i + 1)\n",
        "    im = imgs[:, :, i]\n",
        "    mappable = ax.imshow(im, interpolation=\"nearest\", \n",
        "                         vmin=vmin, vmax=vmax, cmap='bwr')\n",
        "    ax.axis('off')\n",
        "    ax.set_title(\"%i\" % i)\n",
        "plt.tight_layout()"
      ],
      "execution_count": null,
      "outputs": [
        {
          "output_type": "display_data",
          "data": {
            "image/png": "[encoded data removed]",
            "text/plain": [
              "<Figure size 720x360 with 10 Axes>"
            ]
          },
          "metadata": {
            "tags": []
          }
        }
      ]
    },
    {
      "cell_type": "markdown",
      "metadata": {
        "id": "gxU64A6-8SPU"
      },
      "source": [
        "### <font color=darkred> Feed-Forward Neural Network (FFNN)</font>\n",
        "\n",
        "The softmax regression you just trained is a linear model, with 7850 parameters. \n",
        "It is easy to fit, numerically stable, but might be too simple for some tasks. \n",
        "The idea behind neural networks is to have a nonlinear model, while keeping the nice features of linear ones. \n",
        "The idea is to keep parameters into linear functions, and link these small linear model using non linear operations.\n",
        "\n",
        "A simple nonlinearity which is often used to do this is the rectified linear unit\n",
        "$\\text{ReLU}(x) = \\max(0, x)$\n",
        "\n",
        "The derivative of this function is very easy to compute, and it is parameter-free. If we stack models such as softmax regression and ReLUs, it is still very easy to compute the gradient using the chain rule, as the model is a combination of simple functions.\n",
        "\n",
        "The backpropagation algorithm allows efficient computation of complex derivatives as long as the function is made of simple blocks with simple derivatives. \n",
        "This algorithm efficiency is based on data reuse: when working with parallel architectures such as GPUs, you want to minimize communication (data transfer) as it is very time consuming in comparison to the computing time.\n",
        "\n",
        "**Question**\n",
        "\n",
        "Create the graph for a fully connected feed-forward neural network with one hidden layer with 128 units and a relu activation function. "
      ]
    },
    {
      "cell_type": "code",
      "metadata": {
        "id": "tY1gHIQr8Tdr"
      },
      "source": [
        "#define model\n",
        "\n",
        "def baseline_model():\n",
        "    \n",
        "    model_ffnn = Sequential()\n",
        "\n",
        "    model_ffnn.add(Flatten(input_shape=input_shape))\n",
        "###\n",
        "#To do: add a layer here\n",
        "    model_ffnn.add(Dense(128, activation='relu'))\n",
        "###\n",
        "    model_ffnn.add(Dense(num_classes, activation='softmax'))\n",
        "\n",
        "    model_ffnn.compile(\n",
        "        loss=keras.losses.categorical_crossentropy,\n",
        "        optimizer=keras.optimizers.Adagrad(),\n",
        "        metrics=['accuracy'])\n",
        "\n",
        "    return model_ffnn"
      ],
      "execution_count": null,
      "outputs": []
    },
    {
      "cell_type": "code",
      "metadata": {
        "id": "HsqJbeTz8Y7s",
        "colab": {
          "base_uri": "https://localhost:8080/",
          "height": 571
        },
        "outputId": "96ce165c-877c-4fd4-e98b-cbe6fe243650"
      },
      "source": [
        "batch_size = 32\n",
        "epochs = 15\n",
        "\n",
        "model = baseline_model()\n",
        "# Run the train\n",
        "history = model.fit(x_train, y_train,\n",
        "                         batch_size=batch_size,\n",
        "                         epochs=epochs,\n",
        "                         verbose=1,\n",
        "                         validation_data=(x_test, y_test))\n",
        "score = model.evaluate(x_test, y_test, verbose=0)\n",
        "print('Test loss:', score[0])\n",
        "print('Test accuracy:', score[1])"
      ],
      "execution_count": null,
      "outputs": [
        {
          "output_type": "stream",
          "text": [
            "Train on 60000 samples, validate on 10000 samples\n",
            "Epoch 1/15\n",
            "60000/60000 [==============================] - 6s 98us/step - loss: 0.2593 - acc: 0.9264 - val_loss: 0.1780 - val_acc: 0.9481\n",
            "Epoch 2/15\n",
            "60000/60000 [==============================] - 6s 92us/step - loss: 0.1640 - acc: 0.9537 - val_loss: 0.1496 - val_acc: 0.9560\n",
            "Epoch 3/15\n",
            "60000/60000 [==============================] - 5s 91us/step - loss: 0.1376 - acc: 0.9613 - val_loss: 0.1318 - val_acc: 0.9613\n",
            "Epoch 4/15\n",
            "60000/60000 [==============================] - 6s 99us/step - loss: 0.1219 - acc: 0.9661 - val_loss: 0.1230 - val_acc: 0.9638\n",
            "Epoch 5/15\n",
            "60000/60000 [==============================] - 6s 94us/step - loss: 0.1110 - acc: 0.9692 - val_loss: 0.1166 - val_acc: 0.9667\n",
            "Epoch 6/15\n",
            "60000/60000 [==============================] - 6s 93us/step - loss: 0.1024 - acc: 0.9715 - val_loss: 0.1098 - val_acc: 0.9674\n",
            "Epoch 7/15\n",
            "60000/60000 [==============================] - 5s 89us/step - loss: 0.0956 - acc: 0.9736 - val_loss: 0.1053 - val_acc: 0.9681\n",
            "Epoch 8/15\n",
            "60000/60000 [==============================] - 5s 91us/step - loss: 0.0898 - acc: 0.9754 - val_loss: 0.1011 - val_acc: 0.9698\n",
            "Epoch 9/15\n",
            "60000/60000 [==============================] - 6s 93us/step - loss: 0.0850 - acc: 0.9768 - val_loss: 0.0988 - val_acc: 0.9703\n",
            "Epoch 10/15\n",
            "60000/60000 [==============================] - 6s 93us/step - loss: 0.0808 - acc: 0.9779 - val_loss: 0.0957 - val_acc: 0.9706\n",
            "Epoch 11/15\n",
            "60000/60000 [==============================] - 6s 92us/step - loss: 0.0771 - acc: 0.9790 - val_loss: 0.0954 - val_acc: 0.9718\n",
            "Epoch 12/15\n",
            "60000/60000 [==============================] - 6s 94us/step - loss: 0.0736 - acc: 0.9806 - val_loss: 0.0930 - val_acc: 0.9719\n",
            "Epoch 13/15\n",
            "60000/60000 [==============================] - 6s 95us/step - loss: 0.0707 - acc: 0.9808 - val_loss: 0.0898 - val_acc: 0.9726\n",
            "Epoch 14/15\n",
            "60000/60000 [==============================] - 6s 93us/step - loss: 0.0680 - acc: 0.9812 - val_loss: 0.0891 - val_acc: 0.9743\n",
            "Epoch 15/15\n",
            "60000/60000 [==============================] - 6s 95us/step - loss: 0.0653 - acc: 0.9826 - val_loss: 0.0864 - val_acc: 0.9746\n",
            "Test loss: 0.08637939014062286\n",
            "Test accuracy: 0.9746\n"
          ],
          "name": "stdout"
        }
      ]
    },
    {
      "cell_type": "code",
      "metadata": {
        "id": "erBDvLXh8cmp",
        "colab": {
          "base_uri": "https://localhost:8080/"
        },
        "outputId": "96b309b2-db20-45a3-8523-5f1c7ed52015"
      },
      "source": [
        "plt.figure(figsize=(7, 4))\n",
        "plt.plot(history.epoch, history.history['acc'], lw=3, label='Training')\n",
        "plt.plot(history.epoch, history.history['val_acc'], lw=3, label='Testing')\n",
        "plt.legend(fontsize=14)\n",
        "plt.title('Classification accuracy', fontsize=16)\n",
        "plt.xlabel('Epoch', fontsize=14)\n",
        "plt.ylabel('Accuracy', fontsize=14)\n",
        "plt.tight_layout()"
      ],
      "execution_count": null,
      "outputs": [
        {
          "output_type": "display_data",
          "data": {
            "image/png": "[encoded data removed]",
            "text/plain": [
              "<Figure size 504x288 with 1 Axes>"
            ]
          },
          "metadata": {
            "tags": []
          }
        }
      ]
    },
    {
      "cell_type": "markdown",
      "metadata": {
        "id": "nYWuJ8YY45AS"
      },
      "source": [
        "Our model achives perfect skill\n",
        "The average accuracy is: 0.97 which is a quite interesting result"
      ]
    },
    {
      "cell_type": "markdown",
      "metadata": {
        "id": "97it7jWr5HsJ"
      },
      "source": [
        "**Question**\n",
        "\n",
        "Run a cross-validation to analyze the influence of the the number of units of the hidden layer, the number of epochs and the batch-size."
      ]
    },
    {
      "cell_type": "markdown",
      "metadata": {
        "id": "87qKClI657A9"
      },
      "source": [
        "#Cross Validation With Parameter Tuning Using Grid Search"
      ]
    },
    {
      "cell_type": "code",
      "metadata": {
        "id": "B5Vj-SGV2Jso",
        "colab": {
          "base_uri": "https://localhost:8080/",
          "height": 1000
        },
        "outputId": "d7aa9788-9987-4e83-964a-f3a78ef2e0b5"
      },
      "source": [
        "#As we did it "
      ],
      "execution_count": null,
      "outputs": [
        {
          "output_type": "stream",
          "text": [
            "Epoch 1/30\n",
            "60000/60000 [==============================] - 14s 228us/step - loss: 0.2560 - acc: 0.9282\n",
            "Epoch 2/30\n",
            "60000/60000 [==============================] - 13s 219us/step - loss: 0.1618 - acc: 0.9545\n",
            "Epoch 3/30\n",
            "60000/60000 [==============================] - 13s 216us/step - loss: 0.1366 - acc: 0.9615\n",
            "Epoch 4/30\n",
            "60000/60000 [==============================] - 13s 215us/step - loss: 0.1214 - acc: 0.9662\n",
            "Epoch 5/30\n",
            "60000/60000 [==============================] - 13s 212us/step - loss: 0.1104 - acc: 0.9693\n",
            "Epoch 6/30\n",
            "60000/60000 [==============================] - 13s 218us/step - loss: 0.1019 - acc: 0.9718\n",
            "Epoch 7/30\n",
            "60000/60000 [==============================] - 13s 217us/step - loss: 0.0952 - acc: 0.9736\n",
            "Epoch 8/30\n",
            "60000/60000 [==============================] - 13s 220us/step - loss: 0.0895 - acc: 0.9755\n",
            "Epoch 9/30\n",
            "60000/60000 [==============================] - 13s 219us/step - loss: 0.0848 - acc: 0.9771\n",
            "Epoch 10/30\n",
            "60000/60000 [==============================] - 13s 220us/step - loss: 0.0803 - acc: 0.9784\n",
            "Epoch 11/30\n",
            "60000/60000 [==============================] - 14s 228us/step - loss: 0.0766 - acc: 0.9790\n",
            "Epoch 12/30\n",
            "60000/60000 [==============================] - 14s 225us/step - loss: 0.0734 - acc: 0.9805\n",
            "Epoch 13/30\n",
            "60000/60000 [==============================] - 13s 222us/step - loss: 0.0703 - acc: 0.9814\n",
            "Epoch 14/30\n",
            "60000/60000 [==============================] - 13s 216us/step - loss: 0.0677 - acc: 0.9817\n",
            "Epoch 15/30\n",
            "60000/60000 [==============================] - 13s 216us/step - loss: 0.0652 - acc: 0.9828\n",
            "Epoch 16/30\n",
            "60000/60000 [==============================] - 14s 240us/step - loss: 0.0630 - acc: 0.9836\n",
            "Epoch 17/30\n",
            "60000/60000 [==============================] - 14s 235us/step - loss: 0.0609 - acc: 0.9837\n",
            "Epoch 18/30\n",
            "60000/60000 [==============================] - 13s 215us/step - loss: 0.0590 - acc: 0.9845\n",
            "Epoch 19/30\n",
            "60000/60000 [==============================] - 13s 209us/step - loss: 0.0573 - acc: 0.9849\n",
            "Epoch 20/30\n",
            "60000/60000 [==============================] - 16s 264us/step - loss: 0.0556 - acc: 0.9856\n",
            "Epoch 21/30\n",
            "60000/60000 [==============================] - 14s 228us/step - loss: 0.0540 - acc: 0.9861\n",
            "Epoch 22/30\n",
            "60000/60000 [==============================] - 13s 224us/step - loss: 0.0526 - acc: 0.9862\n",
            "Epoch 23/30\n",
            "60000/60000 [==============================] - 14s 235us/step - loss: 0.0512 - acc: 0.9868\n",
            "Epoch 24/30\n",
            "60000/60000 [==============================] - 14s 230us/step - loss: 0.0500 - acc: 0.9871\n",
            "Epoch 25/30\n",
            "60000/60000 [==============================] - 14s 230us/step - loss: 0.0487 - acc: 0.9877\n",
            "Epoch 26/30\n",
            "60000/60000 [==============================] - 13s 218us/step - loss: 0.0475 - acc: 0.9879\n",
            "Epoch 27/30\n",
            "60000/60000 [==============================] - 13s 217us/step - loss: 0.0465 - acc: 0.9883\n",
            "Epoch 28/30\n",
            "60000/60000 [==============================] - 13s 220us/step - loss: 0.0454 - acc: 0.9888\n",
            "Epoch 29/30\n",
            "60000/60000 [==============================] - 13s 220us/step - loss: 0.0445 - acc: 0.9889\n",
            "Epoch 30/30\n",
            "60000/60000 [==============================] - 13s 223us/step - loss: 0.0434 - acc: 0.9890\n"
          ],
          "name": "stdout"
        },
        {
          "output_type": "execute_result",
          "data": {
            "text/plain": [
              "GridSearchCV(cv=5, error_score=nan,\n",
              "             estimator=<keras.wrappers.scikit_learn.KerasClassifier object at 0x7f5222d9df98>,\n",
              "             iid='deprecated', n_jobs=-1,\n",
              "             param_grid={'batch_size': [16, 32, 64], 'epochs': [20, 30],\n",
              "                         'nb_neuron': [128, 256, 512]},\n",
              "             pre_dispatch='2*n_jobs', refit=True, return_train_score=False,\n",
              "             scoring=None, verbose=0)"
            ]
          },
          "metadata": {
            "tags": []
          },
          "execution_count": 34
        }
      ]
    },
    {
      "cell_type": "markdown",
      "metadata": {
        "id": "Vuo6Rwa9_cro"
      },
      "source": [
        "### <font color=darkred> notMNIST</font>\n",
        "\n",
        "MNIST is a very very **clean** dataset. Digits are rescaled, smoothed, centered, and pixel values are normalized beforehand. Let's switch to a slightly harder dataset: [notMNIST](http://yaroslavvb.blogspot.com/2011/09/notmnist-dataset.html).\n",
        "\n",
        "This time, labels are letters from 'A' to 'J' (10 classes). \n",
        "These letters are taken from digital fonts instead of handwriting pictures. \n",
        "We will use a reduced amount of data to ensure a reasonable training time. \n",
        "The training set you will use has 200K labelled examples, while the validation and test sets both contain 10K labelled examples."
      ]
    },
    {
      "cell_type": "code",
      "metadata": {
        "id": "yE2A2eLq_crq"
      },
      "source": [
        "import urllib"
      ],
      "execution_count": null,
      "outputs": []
    },
    {
      "cell_type": "code",
      "metadata": {
        "id": "LrVX6gTY_crv"
      },
      "source": [
        "pickle_file = './notMNIST.pickle'\n",
        "\n",
        "with open(pickle_file, 'rb') as f:\n",
        "    data = pkl.load(f)"
      ],
      "execution_count": null,
      "outputs": []
    },
    {
      "cell_type": "code",
      "metadata": {
        "scrolled": true,
        "id": "WN0AMUKG_cr3"
      },
      "source": [
        "data.keys()"
      ],
      "execution_count": null,
      "outputs": []
    },
    {
      "cell_type": "code",
      "metadata": {
        "id": "IYwTv8SZ_csA"
      },
      "source": [
        "def reshape(x, image_data_format, img_rows, img_cols):\n",
        "    if image_data_format == 'channels_first':\n",
        "        return x.astype(np.float32).reshape((-1, 1, img_rows, img_cols))\n",
        "    else:\n",
        "        return x.astype(np.float32).reshape((-1, img_rows, img_cols, 1))\n",
        "\n",
        "img_rows, img_cols = 28, 28\n",
        "num_labels = 10\n",
        "image_data_format = K.image_data_format()\n",
        "\n",
        "if image_data_format == 'channels_first':\n",
        "    input_shape = (1, img_rows, img_cols)\n",
        "else:\n",
        "    input_shape = (img_rows, img_cols, 1)\n",
        "    \n",
        "x_train = reshape(data['train_dataset'], image_data_format, img_rows, img_cols)\n",
        "x_valid = reshape(data['valid_dataset'], image_data_format, img_rows, img_cols)\n",
        "x_test = reshape(data['test_dataset'], image_data_format, img_rows, img_cols)\n",
        "\n",
        "y_train = keras.utils.to_categorical(data['train_labels'])\n",
        "y_valid = keras.utils.to_categorical(data['valid_labels'])\n",
        "y_test = keras.utils.to_categorical(data['test_labels'])\n",
        "\n",
        "print('x_train shape:', x_train.shape)\n",
        "print('x_valid shape:', x_valid.shape)\n",
        "print('x_test shape:', x_test.shape)\n",
        "print('y_train shape:', y_train.shape)\n",
        "print('y_valid shape:', y_valid.shape)\n",
        "print('y_test shape:', y_test.shape)\n",
        "\n",
        "print(x_train.shape[0], 'training samples')\n",
        "print(x_valid.shape[0], 'validation samples')\n",
        "print(x_test.shape[0], 'testing samples')"
      ],
      "execution_count": null,
      "outputs": []
    },
    {
      "cell_type": "code",
      "metadata": {
        "scrolled": false,
        "id": "sIQs_nEd_csE"
      },
      "source": [
        "# plt.figure(figsize=(8, 4))\n",
        "n_rows = 10\n",
        "n_cols = 8\n",
        "plt.figure(figsize=(n_cols, n_rows))\n",
        "\n",
        "letters = ['A', 'B', 'C', 'D', 'E', 'F', 'G', 'H', 'I', 'J']\n",
        "def get_label(y):\n",
        "    return letters[y.argmax()]\n",
        "\n",
        "for i in range(n_rows * n_cols):\n",
        "    ax = plt.subplot(n_rows, n_cols, i+1)\n",
        "    ax.imshow(x_train[i].reshape(28, 28),\n",
        "               interpolation=\"none\", cmap=\"gray_r\")\n",
        "    ax.set_title(get_label(y_train[i]), fontsize=14)\n",
        "    ax.axis(\"off\")\n",
        "plt.tight_layout()"
      ],
      "execution_count": null,
      "outputs": []
    },
    {
      "cell_type": "markdown",
      "metadata": {
        "id": "0WeLYb0N_csJ"
      },
      "source": [
        "**Question**\n",
        "\n",
        "Train a softmax regression, visualize the weights, plot the convergence curves, save the model and its history (start with a small number of epochs, and increase the number of epochs)."
      ]
    },
    {
      "cell_type": "code",
      "metadata": {
        "id": "TcAe-z-uWktE",
        "colab": {
          "base_uri": "https://localhost:8080/",
          "height": 1000
        },
        "outputId": "413fea7e-3bdf-4d31-8c57-1d81b0c59849"
      },
      "source": [
        "model_not = Sequential()\n",
        "model_not.add(Flatten(input_shape=input_shape, name='flatten'))\n",
        "model_not.add(Dense(num_classes, activation='softmax', name='dense_softmax'))\n",
        "model_not.compile(\n",
        "    # specify the loss as the cross-entropy\n",
        "    loss=keras.losses.categorical_crossentropy,\n",
        "    # choose the Adagrad solver, but you can choose others\n",
        "    optimizer=keras.optimizers.Adagrad(),\n",
        "    # to monitor the accuracy on a testing set along optimization\n",
        "    metrics=['accuracy']\n",
        ")\n",
        "model_not.summary()\n",
        "\n",
        "batch_size = 64\n",
        "epochs = 20\n",
        "# Run the train\n",
        "history = model_not.fit(x_train, y_train,\n",
        "                    batch_size=batch_size,\n",
        "                    epochs=epochs,\n",
        "                    verbose=1,\n",
        "                    validation_data=(x_test, y_test))\n",
        "score = model_not.evaluate(x_test, y_test, verbose=0)\n",
        "print('Test loss:', score[0])\n",
        "print('Test accuracy:', score[1])\n",
        "\n",
        "plt.figure(figsize=(7, 5))\n",
        "plt.plot(history.epoch, history.history['acc'], lw=3, label='Training')\n",
        "plt.plot(history.epoch, history.history['val_acc'], lw=3, label='Testing')\n",
        "plt.legend(fontsize=14)\n",
        "plt.title('Accuracy of softmax regression', fontsize=16)\n",
        "plt.xlabel('Epoch', fontsize=14)\n",
        "plt.ylabel('Accuracy', fontsize=14)\n",
        "plt.tight_layout()\n",
        "\n",
        "weights, biases = model_not.get_layer('dense_softmax').get_weights()\n",
        "imgs = weights.reshape(28, 28, 10)\n",
        "\n",
        "fig = plt.figure(figsize=(10, 5))\n",
        "vmin, vmax = imgs.min(), imgs.max()\n",
        "for i in range(10):\n",
        "    ax = plt.subplot(2, 5, i + 1)\n",
        "    im = imgs[:, :, i]\n",
        "    mappable = ax.imshow(im, interpolation=\"nearest\", \n",
        "                         vmin=vmin, vmax=vmax, cmap='bwr')\n",
        "    ax.axis('off')\n",
        "    ax.set_title(\"%i\" % i)\n",
        "plt.tight_layout()"
      ],
      "execution_count": null,
      "outputs": [
        {
          "output_type": "stream",
          "text": [
            "Model: \"sequential_13\"\n",
            "_________________________________________________________________\n",
            "Layer (type)                 Output Shape              Param #   \n",
            "=================================================================\n",
            "flatten (Flatten)            (None, 784)               0         \n",
            "_________________________________________________________________\n",
            "dense_softmax (Dense)        (None, 10)                7850      \n",
            "=================================================================\n",
            "Total params: 7,850\n",
            "Trainable params: 7,850\n",
            "Non-trainable params: 0\n",
            "_________________________________________________________________\n",
            "Train on 60000 samples, validate on 10000 samples\n",
            "Epoch 1/20\n",
            "60000/60000 [==============================] - 3s 43us/step - loss: 0.4869 - acc: 0.8777 - val_loss: 0.3619 - val_acc: 0.9062\n",
            "Epoch 2/20\n",
            "60000/60000 [==============================] - 2s 28us/step - loss: 0.3599 - acc: 0.9026 - val_loss: 0.3314 - val_acc: 0.9109\n",
            "Epoch 3/20\n",
            "60000/60000 [==============================] - 2s 29us/step - loss: 0.3362 - acc: 0.9081 - val_loss: 0.3160 - val_acc: 0.9137\n",
            "Epoch 4/20\n",
            "60000/60000 [==============================] - 2s 29us/step - loss: 0.3235 - acc: 0.9104 - val_loss: 0.3081 - val_acc: 0.9157\n",
            "Epoch 5/20\n",
            "60000/60000 [==============================] - 2s 29us/step - loss: 0.3152 - acc: 0.9130 - val_loss: 0.3020 - val_acc: 0.9174\n",
            "Epoch 6/20\n",
            "60000/60000 [==============================] - 2s 30us/step - loss: 0.3092 - acc: 0.9143 - val_loss: 0.2977 - val_acc: 0.9177\n",
            "Epoch 7/20\n",
            "60000/60000 [==============================] - 2s 29us/step - loss: 0.3045 - acc: 0.9156 - val_loss: 0.2949 - val_acc: 0.9174\n",
            "Epoch 8/20\n",
            "60000/60000 [==============================] - 2s 30us/step - loss: 0.3007 - acc: 0.9161 - val_loss: 0.2917 - val_acc: 0.9185\n",
            "Epoch 9/20\n",
            "60000/60000 [==============================] - 2s 30us/step - loss: 0.2976 - acc: 0.9173 - val_loss: 0.2896 - val_acc: 0.9183\n",
            "Epoch 10/20\n",
            "60000/60000 [==============================] - 2s 31us/step - loss: 0.2949 - acc: 0.9181 - val_loss: 0.2876 - val_acc: 0.9199\n",
            "Epoch 11/20\n",
            "60000/60000 [==============================] - 2s 30us/step - loss: 0.2925 - acc: 0.9186 - val_loss: 0.2864 - val_acc: 0.9198\n",
            "Epoch 12/20\n",
            "60000/60000 [==============================] - 2s 30us/step - loss: 0.2905 - acc: 0.9192 - val_loss: 0.2852 - val_acc: 0.9200\n",
            "Epoch 13/20\n",
            "60000/60000 [==============================] - 2s 30us/step - loss: 0.2887 - acc: 0.9196 - val_loss: 0.2838 - val_acc: 0.9205\n",
            "Epoch 14/20\n",
            "60000/60000 [==============================] - 2s 31us/step - loss: 0.2870 - acc: 0.9200 - val_loss: 0.2826 - val_acc: 0.9211\n",
            "Epoch 15/20\n",
            "60000/60000 [==============================] - 2s 30us/step - loss: 0.2856 - acc: 0.9206 - val_loss: 0.2813 - val_acc: 0.9214\n",
            "Epoch 16/20\n",
            "60000/60000 [==============================] - 2s 30us/step - loss: 0.2842 - acc: 0.9211 - val_loss: 0.2804 - val_acc: 0.9214\n",
            "Epoch 17/20\n",
            "60000/60000 [==============================] - 2s 30us/step - loss: 0.2830 - acc: 0.9209 - val_loss: 0.2798 - val_acc: 0.9217\n",
            "Epoch 18/20\n",
            "60000/60000 [==============================] - 2s 31us/step - loss: 0.2818 - acc: 0.9212 - val_loss: 0.2792 - val_acc: 0.9213\n",
            "Epoch 19/20\n",
            "60000/60000 [==============================] - 2s 30us/step - loss: 0.2808 - acc: 0.9217 - val_loss: 0.2787 - val_acc: 0.9222\n",
            "Epoch 20/20\n",
            "60000/60000 [==============================] - 2s 30us/step - loss: 0.2798 - acc: 0.9219 - val_loss: 0.2778 - val_acc: 0.9224\n",
            "Test loss: 0.2777716928362846\n",
            "Test accuracy: 0.9224\n"
          ],
          "name": "stdout"
        },
        {
          "output_type": "display_data",
          "data": {
            "image/png": "[encoded data removed]",
            "text/plain": [
              "<Figure size 504x360 with 1 Axes>"
            ]
          },
          "metadata": {
            "tags": []
          }
        },
        {
          "output_type": "display_data",
          "data": {
            "image/png": "[encoded data removed]",
            "text/plain": [
              "<Figure size 720x360 with 10 Axes>"
            ]
          },
          "metadata": {
            "tags": []
          }
        }
      ]
    },
    {
      "cell_type": "code",
      "metadata": {
        "id": "6ETC__5tYa6Z"
      },
      "source": [
        ""
      ],
      "execution_count": null,
      "outputs": []
    }
  ]
}